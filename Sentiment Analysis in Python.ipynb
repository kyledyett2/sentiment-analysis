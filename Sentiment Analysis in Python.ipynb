{
 "cells": [
  {
   "cell_type": "markdown",
   "id": "009f4029-3928-4dda-b68a-7807438b5630",
   "metadata": {},
   "source": [
    "# **Sentiment Analysis in Python**\n",
    "**DESCRIPTION**: <br>\n",
    "This notebook will explore running sentiment analysis over customer request emails in order to highlight emails highly negative sentiment. These emails can be highlighted to customer service representatives in order to ensure prompt resolution of urgent issues. \n",
    "\n",
    "---\n",
    "\n",
    "**Author:** Kyle Dyett<br>\n",
    "**Last Updated By:** Kyle Dyett<br>\n",
    "**Last Updated Date:** 31/08/2024"
   ]
  },
  {
   "cell_type": "markdown",
   "id": "f26547b4-8dd9-48d0-8d4b-db921add33af",
   "metadata": {},
   "source": [
    "## Import Modules"
   ]
  },
  {
   "cell_type": "code",
   "execution_count": 26,
   "id": "2a83ad87-5738-454b-b839-0cdf4b491de3",
   "metadata": {},
   "outputs": [],
   "source": [
    "import pandas as pd\n",
    "import os\n",
    "from tqdm.notebook import tqdm "
   ]
  },
  {
   "cell_type": "markdown",
   "id": "51168698-01c4-4006-a7a7-51e354dd6395",
   "metadata": {},
   "source": [
    "## Read Data"
   ]
  },
  {
   "cell_type": "code",
   "execution_count": 28,
   "id": "96904f38-8ad0-4b95-a5c0-805d43c02761",
   "metadata": {},
   "outputs": [
    {
     "name": "stdout",
     "output_type": "stream",
     "text": [
      "1: Email1.csv\n",
      "2: Email10.csv\n",
      "3: Email11.csv\n",
      "4: Email12.csv\n",
      "5: Email13.csv\n",
      "6: Email14.csv\n",
      "7: Email15.csv\n",
      "8: Email16.csv\n",
      "9: Email2.csv\n",
      "10: Email3.csv\n",
      "11: Email4.csv\n",
      "12: Email5.csv\n",
      "13: Email6.csv\n",
      "14: Email7.csv\n",
      "15: Email8.csv\n",
      "16: Email9.csv\n"
     ]
    }
   ],
   "source": [
    "# List all files in the directory\n",
    "files = [f for f in os.listdir(os.getcwd()+'\\Files') if os.path.isfile(os.path.join(os.getcwd()+'\\Files', f))]\n",
    "files = [f for f in files if f.startswith('Email')]\n",
    "\n",
    "for i, f in enumerate(files):\n",
    "    print(f'{i+1}: {f}')"
   ]
  },
  {
   "cell_type": "code",
   "execution_count": 5,
   "id": "2aacd6ac-7c6e-4114-8b63-802f7b2d3064",
   "metadata": {},
   "outputs": [],
   "source": [
    "emails = pd.DataFrame(columns=['Email ID', 'Subject', 'Body', 'Sentiment'])\n",
    "for f in files:\n",
    "    email = pd.read_csv(f\"{os.getcwd()}\\\\Files\\\\{f}\", encoding='utf-8', encoding_errors='ignore')\n",
    "    emails = pd.concat([emails, email], ignore_index=True)"
   ]
  },
  {
   "cell_type": "markdown",
   "id": "024baaba-0f01-41d2-a685-431b0a2342bf",
   "metadata": {},
   "source": [
    "## Explore Columns & Data Types"
   ]
  },
  {
   "cell_type": "code",
   "execution_count": 7,
   "id": "c8b3c100-2f7d-4b21-ba93-a142e090dfb5",
   "metadata": {},
   "outputs": [
    {
     "data": {
      "text/html": [
       "<div>\n",
       "<style scoped>\n",
       "    .dataframe tbody tr th:only-of-type {\n",
       "        vertical-align: middle;\n",
       "    }\n",
       "\n",
       "    .dataframe tbody tr th {\n",
       "        vertical-align: top;\n",
       "    }\n",
       "\n",
       "    .dataframe thead th {\n",
       "        text-align: right;\n",
       "    }\n",
       "</style>\n",
       "<table border=\"1\" class=\"dataframe\">\n",
       "  <thead>\n",
       "    <tr style=\"text-align: right;\">\n",
       "      <th></th>\n",
       "      <th>Email ID</th>\n",
       "      <th>Subject</th>\n",
       "      <th>Body</th>\n",
       "      <th>Sentiment</th>\n",
       "    </tr>\n",
       "  </thead>\n",
       "  <tbody>\n",
       "    <tr>\n",
       "      <th>0</th>\n",
       "      <td>1</td>\n",
       "      <td>Inaccurate Balance Statement – Urgent Attentio...</td>\n",
       "      <td>Hi,\\n\\nI have just reviewed my latest statemen...</td>\n",
       "      <td>Negative</td>\n",
       "    </tr>\n",
       "    <tr>\n",
       "      <th>1</th>\n",
       "      <td>10</td>\n",
       "      <td>Satisfied with Early Settlement Process</td>\n",
       "      <td>Hello,\\n\\nI recently settled my Hire Purchase ...</td>\n",
       "      <td>Positive</td>\n",
       "    </tr>\n",
       "    <tr>\n",
       "      <th>2</th>\n",
       "      <td>11</td>\n",
       "      <td>Complaint About Payment Processing</td>\n",
       "      <td>To Whom It May Concern,\\n\\nI am extremely unha...</td>\n",
       "      <td>Negative</td>\n",
       "    </tr>\n",
       "    <tr>\n",
       "      <th>3</th>\n",
       "      <td>12</td>\n",
       "      <td>Unacceptable Delay in Response</td>\n",
       "      <td>Hi,\\n\\nI’m really unhappy with the lack of res...</td>\n",
       "      <td>Negative</td>\n",
       "    </tr>\n",
       "    <tr>\n",
       "      <th>4</th>\n",
       "      <td>13</td>\n",
       "      <td>Thank You for the Great Service</td>\n",
       "      <td>Hello,\\n\\nI just wanted to drop a quick messag...</td>\n",
       "      <td>Positive</td>\n",
       "    </tr>\n",
       "  </tbody>\n",
       "</table>\n",
       "</div>"
      ],
      "text/plain": [
       "  Email ID                                            Subject  \\\n",
       "0        1  Inaccurate Balance Statement – Urgent Attentio...   \n",
       "1       10            Satisfied with Early Settlement Process   \n",
       "2       11                 Complaint About Payment Processing   \n",
       "3       12                     Unacceptable Delay in Response   \n",
       "4       13                    Thank You for the Great Service   \n",
       "\n",
       "                                                Body Sentiment  \n",
       "0  Hi,\\n\\nI have just reviewed my latest statemen...  Negative  \n",
       "1  Hello,\\n\\nI recently settled my Hire Purchase ...  Positive  \n",
       "2  To Whom It May Concern,\\n\\nI am extremely unha...  Negative  \n",
       "3  Hi,\\n\\nI’m really unhappy with the lack of res...  Negative  \n",
       "4  Hello,\\n\\nI just wanted to drop a quick messag...  Positive  "
      ]
     },
     "execution_count": 7,
     "metadata": {},
     "output_type": "execute_result"
    }
   ],
   "source": [
    "emails.head()"
   ]
  },
  {
   "cell_type": "code",
   "execution_count": 29,
   "id": "418c529c-9cb2-4c79-9003-c29c1d447f98",
   "metadata": {},
   "outputs": [
    {
     "name": "stdout",
     "output_type": "stream",
     "text": [
      "(16, 4)\n",
      "Email ID     object\n",
      "Subject      object\n",
      "Body         object\n",
      "Sentiment    object\n",
      "dtype: object\n"
     ]
    }
   ],
   "source": [
    "print(emails.shape)\n",
    "print(emails.dtypes)"
   ]
  },
  {
   "cell_type": "code",
   "execution_count": 8,
   "id": "06a1bb27-5dbc-4d53-a872-cc48bf4c36d8",
   "metadata": {},
   "outputs": [
    {
     "name": "stdout",
     "output_type": "stream",
     "text": [
      "Column 1: Email ID\n",
      "Column 2: Subject\n",
      "Column 3: Body\n",
      "Column 4: Sentiment\n"
     ]
    }
   ],
   "source": [
    "for i, col in enumerate(emails):\n",
    "    print(f'Column {i+1}: {col}')"
   ]
  },
  {
   "cell_type": "code",
   "execution_count": 9,
   "id": "34083b35-c514-4487-b436-f6b1792674aa",
   "metadata": {},
   "outputs": [],
   "source": [
    "emails['Sentiment'] = emails['Sentiment'].str.strip()"
   ]
  },
  {
   "cell_type": "markdown",
   "id": "cb806b0a-627f-4078-abb5-1bc385e7dfe4",
   "metadata": {},
   "source": [
    "### Analysis of Sentiment in Dataset"
   ]
  },
  {
   "cell_type": "code",
   "execution_count": 10,
   "id": "aaf3756b-f742-4f77-839f-889c4b79d7c2",
   "metadata": {},
   "outputs": [
    {
     "data": {
      "text/plain": [
       "Neutral     7\n",
       "Negative    6\n",
       "Positive    3\n",
       "Name: Sentiment, dtype: int64"
      ]
     },
     "execution_count": 10,
     "metadata": {},
     "output_type": "execute_result"
    }
   ],
   "source": [
    "emails['Sentiment'].value_counts()"
   ]
  },
  {
   "cell_type": "markdown",
   "id": "7f573da2-9878-46ed-8394-23f23245325b",
   "metadata": {},
   "source": [
    "## Transformer (Hugging Face) Model"
   ]
  },
  {
   "cell_type": "code",
   "execution_count": 11,
   "id": "9436a90b-9f06-4f4f-bf61-e3240589fac2",
   "metadata": {},
   "outputs": [],
   "source": [
    "from transformers import AutoTokenizer\n",
    "from transformers import AutoModelForSequenceClassification\n",
    "from scipy.special import softmax"
   ]
  },
  {
   "cell_type": "markdown",
   "id": "a9b0b7b1-e60b-4470-8b24-7de7b62178ae",
   "metadata": {},
   "source": [
    "### Load Model"
   ]
  },
  {
   "cell_type": "code",
   "execution_count": 12,
   "id": "35cf1889-c6dd-4bf1-ba5a-f68993697130",
   "metadata": {},
   "outputs": [
    {
     "name": "stderr",
     "output_type": "stream",
     "text": [
      "C:\\Users\\kdyett\\AppData\\Roaming\\Python\\Python310\\site-packages\\huggingface_hub\\file_download.py:1150: FutureWarning: `resume_download` is deprecated and will be removed in version 1.0.0. Downloads always resume when possible. If you want to force a new download, use `force_download=True`.\n",
      "  warnings.warn(\n"
     ]
    }
   ],
   "source": [
    "MODEL = f\"cardiffnlp/twitter-roberta-base-sentiment\"\n",
    "# MODEL = f\"bhadresh-savani/distilbert-base-uncased-emotion\"\n",
    "# MODEL = f\"nlptown/bert-base-multilingual-uncased-sentiment\"\n",
    "tokenizer = AutoTokenizer.from_pretrained(MODEL)\n",
    "model = AutoModelForSequenceClassification.from_pretrained(MODEL)"
   ]
  },
  {
   "cell_type": "code",
   "execution_count": 13,
   "id": "3ddf7e43-9f38-4f01-8344-73506c27290d",
   "metadata": {},
   "outputs": [
    {
     "data": {
      "application/vnd.jupyter.widget-view+json": {
       "model_id": "b2db09a6c04e4cb689dfc5ed175f51a5",
       "version_major": 2,
       "version_minor": 0
      },
      "text/plain": [
       "0it [00:00, ?it/s]"
      ]
     },
     "metadata": {},
     "output_type": "display_data"
    },
    {
     "name": "stdout",
     "output_type": "stream",
     "text": [
      "11 :  Hi,\n",
      "\n",
      "I’ve tried contacting your team multiple times over the past week regarding my request to adjust the loan repayment terms, and I have yet to receive a response. This level of service is completely unacceptable, and it’s causing unnecessary stress on my end. If this issue isn’t resolved soon, I’ll have no choice but to look for alternative lenders.\n",
      "\n",
      "Please respond immediately.\n",
      "Rachel\n",
      "12 :  Hi,\n",
      "\n",
      "Could you please provide me with an update on the current balance of my loan? I just want to confirm that my recent payments have been applied correctly. I’m not in a rush, but a quick email with the latest figures would be helpful for my financial planning.\n",
      "\n",
      "Thanks for your help.\n",
      "Ben\n",
      "13 :  Hi there,\n",
      "\n",
      "I’ve been reviewing my loan repayment schedule, and I just have a few questions about the interest calculation for the remaining term. Could someone from your team please get back to me at your convenience? There’s no urgent issue; I just want to fully understand my agreement.\n",
      "\n",
      "Thanks in advance,\n",
      "Tina\n",
      "14 :  Hi there,\n",
      "\n",
      "I reached out a few days ago regarding my account balance but haven’t received a response yet. I understand things can get busy, but a quicker reply would be appreciated, especially when it concerns financial matters. Your team has always been helpful, but I’m finding the response time on this occasion a little slower than I’d like.\n",
      "\n",
      "Thank you for your attention to this.\n",
      "David\n",
      "\n",
      "15 :  Dear Support Team,\n",
      "\n",
      "I’m reviewing my loan terms, and a couple of points seem different from what I remember discussing initially. It’s probably just a misunderstanding, but I’d feel more comfortable if we could go over the details again. I’ve always had a positive experience with your company, so I’m sure this will be resolved without issue.\n",
      "\n",
      "Best,\n",
      "Tom\n"
     ]
    }
   ],
   "source": [
    "for i, row in tqdm(emails.tail(5).iterrows()):\n",
    "    print(i, ': ', row['Body'],)"
   ]
  },
  {
   "cell_type": "markdown",
   "id": "fc7d6bcf-8bb3-41f4-9572-0fe3b5c05166",
   "metadata": {},
   "source": [
    "### Create Function to run Sentiment Analysis"
   ]
  },
  {
   "cell_type": "code",
   "execution_count": 33,
   "id": "57750837-afb8-4f50-b374-d045ee1e3f20",
   "metadata": {},
   "outputs": [],
   "source": [
    "def sentiment_analysis_roberta(text):\n",
    "    # Run for Roberta Model\n",
    "    encoded_text = tokenizer(text, return_tensors='pt')\n",
    "    output = model(**encoded_text)\n",
    "    scores = output[0][0].detach().numpy()\n",
    "    scores = softmax(scores)\n",
    "    scores_dict = {\n",
    "        'Roberta_neg': scores[0],\n",
    "        'Roberta_neu': scores[1],\n",
    "        'Roberta_pos': scores[2]\n",
    "    }\n",
    "    return scores_dict"
   ]
  },
  {
   "cell_type": "markdown",
   "id": "5df2e0d4-4cc2-4e99-a2c0-73122e55d77c",
   "metadata": {},
   "source": [
    "### Create Dataframe to Store Results"
   ]
  },
  {
   "cell_type": "code",
   "execution_count": 40,
   "id": "6deb2889-a221-4857-a27d-e1a2634fb56e",
   "metadata": {},
   "outputs": [],
   "source": [
    "trns_df = pd.DataFrame(columns=['Email ID', 'Roberta_neg', 'Roberta_neu', 'Roberta_pos'])"
   ]
  },
  {
   "cell_type": "markdown",
   "id": "1b55b1dc-872c-4f3d-ba27-f10687101dc7",
   "metadata": {},
   "source": [
    "### Iterate over Emails & Use RoBERTa Sentiment Analysis"
   ]
  },
  {
   "cell_type": "code",
   "execution_count": 41,
   "id": "86240625-4709-4fa1-b66e-b216535ab306",
   "metadata": {},
   "outputs": [
    {
     "data": {
      "application/vnd.jupyter.widget-view+json": {
       "model_id": "83fd27b3f5cb412eb3b7a8eaa55b1210",
       "version_major": 2,
       "version_minor": 0
      },
      "text/plain": [
       "0it [00:00, ?it/s]"
      ]
     },
     "metadata": {},
     "output_type": "display_data"
    },
    {
     "name": "stdout",
     "output_type": "stream",
     "text": [
      "0 :  {'Roberta_neg': 0.9566534, 'Roberta_neu': 0.03866507, 'Roberta_pos': 0.0046815816, 'Email ID': 1}\n",
      "1 :  {'Roberta_neg': 0.0022362897, 'Roberta_neu': 0.02455041, 'Roberta_pos': 0.97321326, 'Email ID': 10}\n",
      "2 :  {'Roberta_neg': 0.95206535, 'Roberta_neu': 0.043183554, 'Roberta_pos': 0.0047511267, 'Email ID': 11}\n",
      "3 :  {'Roberta_neg': 0.89628977, 'Roberta_neu': 0.09201832, 'Roberta_pos': 0.011691968, 'Email ID': 12}\n",
      "4 :  {'Roberta_neg': 0.0018663536, 'Roberta_neu': 0.011588338, 'Roberta_pos': 0.9865454, 'Email ID': 13}\n",
      "5 :  {'Roberta_neg': 0.23537403, 'Roberta_neu': 0.5712173, 'Roberta_pos': 0.19340864, 'Email ID': 14}\n",
      "6 :  {'Roberta_neg': 0.16278999, 'Roberta_neu': 0.35517603, 'Roberta_pos': 0.482034, 'Email ID': 15}\n",
      "7 :  {'Roberta_neg': 0.072705634, 'Roberta_neu': 0.31069672, 'Roberta_pos': 0.6165977, 'Email ID': 16}\n",
      "8 :  {'Roberta_neg': 0.9506371, 'Roberta_neu': 0.045175537, 'Roberta_pos': 0.004187347, 'Email ID': 2}\n",
      "9 :  {'Roberta_neg': 0.0028110011, 'Roberta_neu': 0.024401939, 'Roberta_pos': 0.972787, 'Email ID': 3}\n",
      "10 :  {'Roberta_neg': 0.037410077, 'Roberta_neu': 0.26148966, 'Roberta_pos': 0.70110023, 'Email ID': 4}\n",
      "11 :  {'Roberta_neg': 0.9333418, 'Roberta_neu': 0.060250256, 'Roberta_pos': 0.0064079794, 'Email ID': 5}\n",
      "12 :  {'Roberta_neg': 0.021373257, 'Roberta_neu': 0.4015823, 'Roberta_pos': 0.5770444, 'Email ID': 6}\n",
      "13 :  {'Roberta_neg': 0.13259979, 'Roberta_neu': 0.6967568, 'Roberta_pos': 0.17064343, 'Email ID': 7}\n",
      "14 :  {'Roberta_neg': 0.23901418, 'Roberta_neu': 0.45040822, 'Roberta_pos': 0.31057757, 'Email ID': 8}\n",
      "15 :  {'Roberta_neg': 0.04497821, 'Roberta_neu': 0.27828363, 'Roberta_pos': 0.67673814, 'Email ID': 9}\n"
     ]
    }
   ],
   "source": [
    "for i, row in tqdm(emails.iterrows()):\n",
    "    text = row['Body']\n",
    "    roberta = sentiment_analysis_roberta(text)\n",
    "    roberta['Email ID'] = row['Email ID']\n",
    "    roberta_df = pd.DataFrame([roberta])\n",
    "    trns_df = pd.concat([trns_df, roberta_df], ignore_index=True)\n",
    "    print(i, ': ', roberta)"
   ]
  },
  {
   "cell_type": "code",
   "execution_count": 45,
   "id": "cdba59c6-2d9a-4f3e-a1fb-7928371c2075",
   "metadata": {},
   "outputs": [],
   "source": [
    "# Find the column with the maximum value and assign Class\n",
    "trns_df['Roberta_class'] = trns_df[['Roberta_neg', 'Roberta_neu', 'Roberta_pos']].idxmax(axis=1)"
   ]
  },
  {
   "cell_type": "code",
   "execution_count": 46,
   "id": "511dedc9-de37-4e7e-af6f-911da8c9f3e1",
   "metadata": {},
   "outputs": [],
   "source": [
    "# Define a mapping dictionary to convert column names to meaningful descriptions\n",
    "roberta_mapping = {\n",
    "    'Roberta_neg': 'NEGATIVE',\n",
    "    'Roberta_neu': 'NEUTRAL',\n",
    "    'Roberta_pos': 'POSITIVE'\n",
    "}\n",
    "# Map the values in the 'RoBERTa' column to the meaningful descriptions\n",
    "trns_df['Roberta_class'] = trns_df['Roberta_class'].map(roberta_mapping)"
   ]
  },
  {
   "cell_type": "markdown",
   "id": "91769239-f5e5-40cc-aebb-f89d17a133ad",
   "metadata": {},
   "source": [
    "### View Final Output and Save Output File"
   ]
  },
  {
   "cell_type": "code",
   "execution_count": 49,
   "id": "03b3fb46-2987-41f3-9eb4-ae14079062d9",
   "metadata": {},
   "outputs": [
    {
     "data": {
      "text/html": [
       "<div>\n",
       "<style scoped>\n",
       "    .dataframe tbody tr th:only-of-type {\n",
       "        vertical-align: middle;\n",
       "    }\n",
       "\n",
       "    .dataframe tbody tr th {\n",
       "        vertical-align: top;\n",
       "    }\n",
       "\n",
       "    .dataframe thead th {\n",
       "        text-align: right;\n",
       "    }\n",
       "</style>\n",
       "<table border=\"1\" class=\"dataframe\">\n",
       "  <thead>\n",
       "    <tr style=\"text-align: right;\">\n",
       "      <th></th>\n",
       "      <th>Email ID</th>\n",
       "      <th>Roberta_neg</th>\n",
       "      <th>Roberta_neu</th>\n",
       "      <th>Roberta_pos</th>\n",
       "      <th>Roberta_class</th>\n",
       "    </tr>\n",
       "  </thead>\n",
       "  <tbody>\n",
       "    <tr>\n",
       "      <th>0</th>\n",
       "      <td>1</td>\n",
       "      <td>0.956653</td>\n",
       "      <td>0.038665</td>\n",
       "      <td>0.004682</td>\n",
       "      <td>NEGATIVE</td>\n",
       "    </tr>\n",
       "    <tr>\n",
       "      <th>8</th>\n",
       "      <td>2</td>\n",
       "      <td>0.950637</td>\n",
       "      <td>0.045176</td>\n",
       "      <td>0.004187</td>\n",
       "      <td>NEGATIVE</td>\n",
       "    </tr>\n",
       "    <tr>\n",
       "      <th>9</th>\n",
       "      <td>3</td>\n",
       "      <td>0.002811</td>\n",
       "      <td>0.024402</td>\n",
       "      <td>0.972787</td>\n",
       "      <td>POSITIVE</td>\n",
       "    </tr>\n",
       "    <tr>\n",
       "      <th>10</th>\n",
       "      <td>4</td>\n",
       "      <td>0.037410</td>\n",
       "      <td>0.261490</td>\n",
       "      <td>0.701100</td>\n",
       "      <td>POSITIVE</td>\n",
       "    </tr>\n",
       "    <tr>\n",
       "      <th>11</th>\n",
       "      <td>5</td>\n",
       "      <td>0.933342</td>\n",
       "      <td>0.060250</td>\n",
       "      <td>0.006408</td>\n",
       "      <td>NEGATIVE</td>\n",
       "    </tr>\n",
       "    <tr>\n",
       "      <th>12</th>\n",
       "      <td>6</td>\n",
       "      <td>0.021373</td>\n",
       "      <td>0.401582</td>\n",
       "      <td>0.577044</td>\n",
       "      <td>POSITIVE</td>\n",
       "    </tr>\n",
       "    <tr>\n",
       "      <th>13</th>\n",
       "      <td>7</td>\n",
       "      <td>0.132600</td>\n",
       "      <td>0.696757</td>\n",
       "      <td>0.170643</td>\n",
       "      <td>NEUTRAL</td>\n",
       "    </tr>\n",
       "    <tr>\n",
       "      <th>14</th>\n",
       "      <td>8</td>\n",
       "      <td>0.239014</td>\n",
       "      <td>0.450408</td>\n",
       "      <td>0.310578</td>\n",
       "      <td>NEUTRAL</td>\n",
       "    </tr>\n",
       "    <tr>\n",
       "      <th>15</th>\n",
       "      <td>9</td>\n",
       "      <td>0.044978</td>\n",
       "      <td>0.278284</td>\n",
       "      <td>0.676738</td>\n",
       "      <td>POSITIVE</td>\n",
       "    </tr>\n",
       "    <tr>\n",
       "      <th>1</th>\n",
       "      <td>10</td>\n",
       "      <td>0.002236</td>\n",
       "      <td>0.024550</td>\n",
       "      <td>0.973213</td>\n",
       "      <td>POSITIVE</td>\n",
       "    </tr>\n",
       "    <tr>\n",
       "      <th>2</th>\n",
       "      <td>11</td>\n",
       "      <td>0.952065</td>\n",
       "      <td>0.043184</td>\n",
       "      <td>0.004751</td>\n",
       "      <td>NEGATIVE</td>\n",
       "    </tr>\n",
       "    <tr>\n",
       "      <th>3</th>\n",
       "      <td>12</td>\n",
       "      <td>0.896290</td>\n",
       "      <td>0.092018</td>\n",
       "      <td>0.011692</td>\n",
       "      <td>NEGATIVE</td>\n",
       "    </tr>\n",
       "    <tr>\n",
       "      <th>4</th>\n",
       "      <td>13</td>\n",
       "      <td>0.001866</td>\n",
       "      <td>0.011588</td>\n",
       "      <td>0.986545</td>\n",
       "      <td>POSITIVE</td>\n",
       "    </tr>\n",
       "    <tr>\n",
       "      <th>5</th>\n",
       "      <td>14</td>\n",
       "      <td>0.235374</td>\n",
       "      <td>0.571217</td>\n",
       "      <td>0.193409</td>\n",
       "      <td>NEUTRAL</td>\n",
       "    </tr>\n",
       "    <tr>\n",
       "      <th>6</th>\n",
       "      <td>15</td>\n",
       "      <td>0.162790</td>\n",
       "      <td>0.355176</td>\n",
       "      <td>0.482034</td>\n",
       "      <td>POSITIVE</td>\n",
       "    </tr>\n",
       "    <tr>\n",
       "      <th>7</th>\n",
       "      <td>16</td>\n",
       "      <td>0.072706</td>\n",
       "      <td>0.310697</td>\n",
       "      <td>0.616598</td>\n",
       "      <td>POSITIVE</td>\n",
       "    </tr>\n",
       "  </tbody>\n",
       "</table>\n",
       "</div>"
      ],
      "text/plain": [
       "   Email ID  Roberta_neg  Roberta_neu  Roberta_pos Roberta_class\n",
       "0         1     0.956653     0.038665     0.004682      NEGATIVE\n",
       "8         2     0.950637     0.045176     0.004187      NEGATIVE\n",
       "9         3     0.002811     0.024402     0.972787      POSITIVE\n",
       "10        4     0.037410     0.261490     0.701100      POSITIVE\n",
       "11        5     0.933342     0.060250     0.006408      NEGATIVE\n",
       "12        6     0.021373     0.401582     0.577044      POSITIVE\n",
       "13        7     0.132600     0.696757     0.170643       NEUTRAL\n",
       "14        8     0.239014     0.450408     0.310578       NEUTRAL\n",
       "15        9     0.044978     0.278284     0.676738      POSITIVE\n",
       "1        10     0.002236     0.024550     0.973213      POSITIVE\n",
       "2        11     0.952065     0.043184     0.004751      NEGATIVE\n",
       "3        12     0.896290     0.092018     0.011692      NEGATIVE\n",
       "4        13     0.001866     0.011588     0.986545      POSITIVE\n",
       "5        14     0.235374     0.571217     0.193409       NEUTRAL\n",
       "6        15     0.162790     0.355176     0.482034      POSITIVE\n",
       "7        16     0.072706     0.310697     0.616598      POSITIVE"
      ]
     },
     "execution_count": 49,
     "metadata": {},
     "output_type": "execute_result"
    }
   ],
   "source": [
    "trns_df.sort_values(by='Email ID', inplace=True)\n",
    "trns_df"
   ]
  },
  {
   "cell_type": "code",
   "execution_count": 64,
   "id": "b5de3ac6-4217-468c-afde-4b66e869e481",
   "metadata": {},
   "outputs": [
    {
     "name": "stdout",
     "output_type": "stream",
     "text": [
      "ROBERTA_SENTIMENT_ANALYSIS Table Saved as CSV File\n"
     ]
    }
   ],
   "source": [
    "table_name = 'ROBERTA_SENTIMENT_ANALYSIS'\n",
    "trns_df.to_csv(f\"{os.getcwd()}\\\\Files\\\\{table_name}.csv\")\n",
    "print(f'{table_name} Table Saved as CSV File')"
   ]
  },
  {
   "cell_type": "markdown",
   "id": "8b8bfd13-df88-4bba-981b-7daa2ae0a05c",
   "metadata": {},
   "source": [
    "## Open AI - Generative AI Model for Sentiment Analysis  "
   ]
  },
  {
   "cell_type": "markdown",
   "id": "9d19e1a8-abf6-43f4-9748-4042166b067f",
   "metadata": {},
   "source": [
    "### Retrieve the API Key\n",
    "* The API Key needs to be created in your OpenAI account\n",
    "* The API Key has been stored in a Text File"
   ]
  },
  {
   "cell_type": "code",
   "execution_count": 55,
   "id": "3f8fcc54-44fe-4273-a255-400ddc79d22f",
   "metadata": {},
   "outputs": [
    {
     "name": "stdout",
     "output_type": "stream",
     "text": [
      "Retrieved API Key\n"
     ]
    }
   ],
   "source": [
    "# Open the API Key File in read mode\n",
    "with open(os.getcwd()+'\\\\Files\\\\api_key.txt', 'r') as file:\n",
    "    # Read the API Key\n",
    "    API_KEY = file.readline()\n",
    "    print('Retrieved API Key')"
   ]
  },
  {
   "cell_type": "markdown",
   "id": "925d484e-75cf-4a24-89f8-6f17127215b2",
   "metadata": {},
   "source": [
    "### Create Function to run Sentiment Analysis using OpenAI"
   ]
  },
  {
   "cell_type": "code",
   "execution_count": 56,
   "id": "694142d8-1085-4570-b112-83479dcb9c95",
   "metadata": {},
   "outputs": [],
   "source": [
    "import openai\n",
    "import re\n",
    "\n",
    "openai.api_key = API_KEY\n",
    "\n",
    "def analyze_sentiment_openai(text):\n",
    "    response = openai.chat.completions.create(\n",
    "        model=\"gpt-3.5-turbo\",\n",
    "        messages=[\n",
    "            {\"role\": \"user\", \"content\": f\"Analyze the sentiment of the following text and provide scores with 4 decimal places for positive, negative, and neutral sentiments from 0.00 to 1.00:\\n\\n'{text}'\\n\\nResponse format:\\nPositive: <value>\\nNegative: <value>\\nNeutral: <value>\"}\n",
    "        ]\n",
    "    )\n",
    "\n",
    "    sentiment = response.choices[0].message.content\n",
    "    \n",
    "    # Use regex to extract the scores\n",
    "    positive_score = re.search(r'Positive:\\s*([0-1]\\.\\d+|[0-1])', sentiment)\n",
    "    negative_score = re.search(r'Negative:\\s*([0-1]\\.\\d+|[0-1])', sentiment)\n",
    "    neutral_score = re.search(r'Neutral:\\s*([0-1]\\.\\d+|[0-1])', sentiment)\n",
    "\n",
    "    return {\n",
    "        \"positive_gpt\": float(positive_score.group(1)) if positive_score else None,\n",
    "        \"negative_gpt\": float(negative_score.group(1)) if negative_score else None,\n",
    "        \"neutral_gpt\": float(neutral_score.group(1)) if neutral_score else None,\n",
    "    }"
   ]
  },
  {
   "cell_type": "markdown",
   "id": "ccc23e04-775b-4bbb-8c70-9973d0915eb2",
   "metadata": {},
   "source": [
    "### Create Dataframe to Store Results"
   ]
  },
  {
   "cell_type": "code",
   "execution_count": 69,
   "id": "43acc89f-9146-4d57-9ffd-4b72c3664bf1",
   "metadata": {},
   "outputs": [],
   "source": [
    "genai_df = pd.DataFrame(columns=['Email ID', 'negative_gpt', 'neutral_gpt', 'positive_gpt'])"
   ]
  },
  {
   "cell_type": "markdown",
   "id": "4de5f51f-7dce-4ae5-9fdb-304fc4f22e45",
   "metadata": {},
   "source": [
    "### Iterate over Emails & Use OpenAI Sentiment Analysis"
   ]
  },
  {
   "cell_type": "code",
   "execution_count": 70,
   "id": "ce7922e8-70d7-48b0-8e85-73e672474738",
   "metadata": {},
   "outputs": [
    {
     "data": {
      "application/vnd.jupyter.widget-view+json": {
       "model_id": "4de55da2c626445cbb1b0dc750c473f9",
       "version_major": 2,
       "version_minor": 0
      },
      "text/plain": [
       "0it [00:00, ?it/s]"
      ]
     },
     "metadata": {},
     "output_type": "display_data"
    },
    {
     "name": "stdout",
     "output_type": "stream",
     "text": [
      "1\n",
      "0 :  {'positive_gpt': 0.0, 'negative_gpt': 1.0, 'neutral_gpt': 0.0, 'Email ID': 1}\n",
      "10\n",
      "1 :  {'positive_gpt': 0.9321, 'negative_gpt': 0.0, 'neutral_gpt': 0.0679, 'Email ID': 10}\n",
      "11\n",
      "2 :  {'positive_gpt': 0.0, 'negative_gpt': 1.0, 'neutral_gpt': 0.0, 'Email ID': 11}\n",
      "12\n",
      "3 :  {'positive_gpt': 0.0, 'negative_gpt': 0.8989, 'neutral_gpt': 0.1011, 'Email ID': 12}\n",
      "13\n",
      "4 :  {'positive_gpt': 1.0, 'negative_gpt': 0.0, 'neutral_gpt': 0.0, 'Email ID': 13}\n",
      "14\n",
      "5 :  {'positive_gpt': 0.6851, 'negative_gpt': 0.0218, 'neutral_gpt': 0.2931, 'Email ID': 14}\n",
      "15\n",
      "6 :  {'positive_gpt': 0.5455, 'negative_gpt': 0.0909, 'neutral_gpt': 0.3636, 'Email ID': 15}\n",
      "16\n",
      "7 :  {'positive_gpt': 0.8167, 'negative_gpt': 0.0191, 'neutral_gpt': 0.1642, 'Email ID': 16}\n",
      "2\n",
      "8 :  {'positive_gpt': 0.0, 'negative_gpt': 0.775, 'neutral_gpt': 0.225, 'Email ID': 2}\n",
      "3\n",
      "9 :  {'positive_gpt': 1.0, 'negative_gpt': 0.0, 'neutral_gpt': 0.0, 'Email ID': 3}\n",
      "4\n",
      "10 :  {'positive_gpt': 0.8231, 'negative_gpt': 0.0, 'neutral_gpt': 0.1769, 'Email ID': 4}\n",
      "5\n",
      "11 :  {'positive_gpt': 0.0, 'negative_gpt': 0.8192, 'neutral_gpt': 0.1808, 'Email ID': 5}\n",
      "6\n",
      "12 :  {'positive_gpt': 0.7283, 'negative_gpt': 0.0, 'neutral_gpt': 0.2717, 'Email ID': 6}\n",
      "7\n",
      "13 :  {'positive_gpt': 0.68, 'negative_gpt': 0.0, 'neutral_gpt': 0.32, 'Email ID': 7}\n",
      "8\n",
      "14 :  {'positive_gpt': 0.5128, 'negative_gpt': 0.0846, 'neutral_gpt': 0.4026, 'Email ID': 8}\n",
      "9\n",
      "15 :  {'positive_gpt': 0.7465, 'negative_gpt': 0.0, 'neutral_gpt': 0.2535, 'Email ID': 9}\n"
     ]
    }
   ],
   "source": [
    "for i, row in tqdm(emails.iterrows()):\n",
    "    print(row['Email ID'])\n",
    "    text = row['Body']\n",
    "    opn = analyze_sentiment_openai(text)\n",
    "    opn['Email ID'] = row['Email ID']\n",
    "    open_df = pd.DataFrame([opn])\n",
    "    genai_df = pd.concat([genai_df, open_df], ignore_index=True)\n",
    "    print(i, ': ', opn)"
   ]
  },
  {
   "cell_type": "code",
   "execution_count": 73,
   "id": "d5510418-ffb4-4253-a3e8-f6d9a73ebed4",
   "metadata": {},
   "outputs": [],
   "source": [
    "# Find the column with the maximum value and assign Class\n",
    "genai_df['gpt_class'] = genai_df[['positive_gpt', 'negative_gpt', 'neutral_gpt']].idxmax(axis=1)"
   ]
  },
  {
   "cell_type": "code",
   "execution_count": 74,
   "id": "dea194a7-70d5-4a53-98f6-0e65ee35d9cd",
   "metadata": {},
   "outputs": [],
   "source": [
    "# Define a mapping dictionary to convert column names to meaningful descriptions\n",
    "openai_mapping = {\n",
    "    'negative_gpt': 'NEGATIVE',\n",
    "    'neutral_gpt': 'NEUTRAL',\n",
    "    'positive_gpt': 'POSITIVE'\n",
    "}\n",
    "# Map the values in the 'GPT Class' column to the meaningful descriptions\n",
    "genai_df['gpt_class'] = genai_df['gpt_class'].map(openai_mapping)"
   ]
  },
  {
   "cell_type": "markdown",
   "id": "2d9f1251-5608-4114-bddb-15307649ae9c",
   "metadata": {},
   "source": [
    "### View Final Output and Save Output File"
   ]
  },
  {
   "cell_type": "code",
   "execution_count": 75,
   "id": "16c1acbb-5d3e-4ac5-b34d-4ae5a8b6574e",
   "metadata": {},
   "outputs": [
    {
     "data": {
      "text/html": [
       "<div>\n",
       "<style scoped>\n",
       "    .dataframe tbody tr th:only-of-type {\n",
       "        vertical-align: middle;\n",
       "    }\n",
       "\n",
       "    .dataframe tbody tr th {\n",
       "        vertical-align: top;\n",
       "    }\n",
       "\n",
       "    .dataframe thead th {\n",
       "        text-align: right;\n",
       "    }\n",
       "</style>\n",
       "<table border=\"1\" class=\"dataframe\">\n",
       "  <thead>\n",
       "    <tr style=\"text-align: right;\">\n",
       "      <th></th>\n",
       "      <th>Email ID</th>\n",
       "      <th>negative_gpt</th>\n",
       "      <th>neutral_gpt</th>\n",
       "      <th>positive_gpt</th>\n",
       "      <th>gpt_class</th>\n",
       "    </tr>\n",
       "  </thead>\n",
       "  <tbody>\n",
       "    <tr>\n",
       "      <th>0</th>\n",
       "      <td>1</td>\n",
       "      <td>1.0000</td>\n",
       "      <td>0.0000</td>\n",
       "      <td>0.0000</td>\n",
       "      <td>NEGATIVE</td>\n",
       "    </tr>\n",
       "    <tr>\n",
       "      <th>8</th>\n",
       "      <td>2</td>\n",
       "      <td>0.7750</td>\n",
       "      <td>0.2250</td>\n",
       "      <td>0.0000</td>\n",
       "      <td>NEGATIVE</td>\n",
       "    </tr>\n",
       "    <tr>\n",
       "      <th>9</th>\n",
       "      <td>3</td>\n",
       "      <td>0.0000</td>\n",
       "      <td>0.0000</td>\n",
       "      <td>1.0000</td>\n",
       "      <td>POSITIVE</td>\n",
       "    </tr>\n",
       "    <tr>\n",
       "      <th>10</th>\n",
       "      <td>4</td>\n",
       "      <td>0.0000</td>\n",
       "      <td>0.1769</td>\n",
       "      <td>0.8231</td>\n",
       "      <td>POSITIVE</td>\n",
       "    </tr>\n",
       "    <tr>\n",
       "      <th>11</th>\n",
       "      <td>5</td>\n",
       "      <td>0.8192</td>\n",
       "      <td>0.1808</td>\n",
       "      <td>0.0000</td>\n",
       "      <td>NEGATIVE</td>\n",
       "    </tr>\n",
       "    <tr>\n",
       "      <th>12</th>\n",
       "      <td>6</td>\n",
       "      <td>0.0000</td>\n",
       "      <td>0.2717</td>\n",
       "      <td>0.7283</td>\n",
       "      <td>POSITIVE</td>\n",
       "    </tr>\n",
       "    <tr>\n",
       "      <th>13</th>\n",
       "      <td>7</td>\n",
       "      <td>0.0000</td>\n",
       "      <td>0.3200</td>\n",
       "      <td>0.6800</td>\n",
       "      <td>POSITIVE</td>\n",
       "    </tr>\n",
       "    <tr>\n",
       "      <th>14</th>\n",
       "      <td>8</td>\n",
       "      <td>0.0846</td>\n",
       "      <td>0.4026</td>\n",
       "      <td>0.5128</td>\n",
       "      <td>POSITIVE</td>\n",
       "    </tr>\n",
       "    <tr>\n",
       "      <th>15</th>\n",
       "      <td>9</td>\n",
       "      <td>0.0000</td>\n",
       "      <td>0.2535</td>\n",
       "      <td>0.7465</td>\n",
       "      <td>POSITIVE</td>\n",
       "    </tr>\n",
       "    <tr>\n",
       "      <th>1</th>\n",
       "      <td>10</td>\n",
       "      <td>0.0000</td>\n",
       "      <td>0.0679</td>\n",
       "      <td>0.9321</td>\n",
       "      <td>POSITIVE</td>\n",
       "    </tr>\n",
       "    <tr>\n",
       "      <th>2</th>\n",
       "      <td>11</td>\n",
       "      <td>1.0000</td>\n",
       "      <td>0.0000</td>\n",
       "      <td>0.0000</td>\n",
       "      <td>NEGATIVE</td>\n",
       "    </tr>\n",
       "    <tr>\n",
       "      <th>3</th>\n",
       "      <td>12</td>\n",
       "      <td>0.8989</td>\n",
       "      <td>0.1011</td>\n",
       "      <td>0.0000</td>\n",
       "      <td>NEGATIVE</td>\n",
       "    </tr>\n",
       "    <tr>\n",
       "      <th>4</th>\n",
       "      <td>13</td>\n",
       "      <td>0.0000</td>\n",
       "      <td>0.0000</td>\n",
       "      <td>1.0000</td>\n",
       "      <td>POSITIVE</td>\n",
       "    </tr>\n",
       "    <tr>\n",
       "      <th>5</th>\n",
       "      <td>14</td>\n",
       "      <td>0.0218</td>\n",
       "      <td>0.2931</td>\n",
       "      <td>0.6851</td>\n",
       "      <td>POSITIVE</td>\n",
       "    </tr>\n",
       "    <tr>\n",
       "      <th>6</th>\n",
       "      <td>15</td>\n",
       "      <td>0.0909</td>\n",
       "      <td>0.3636</td>\n",
       "      <td>0.5455</td>\n",
       "      <td>POSITIVE</td>\n",
       "    </tr>\n",
       "    <tr>\n",
       "      <th>7</th>\n",
       "      <td>16</td>\n",
       "      <td>0.0191</td>\n",
       "      <td>0.1642</td>\n",
       "      <td>0.8167</td>\n",
       "      <td>POSITIVE</td>\n",
       "    </tr>\n",
       "  </tbody>\n",
       "</table>\n",
       "</div>"
      ],
      "text/plain": [
       "   Email ID  negative_gpt  neutral_gpt  positive_gpt gpt_class\n",
       "0         1        1.0000       0.0000        0.0000  NEGATIVE\n",
       "8         2        0.7750       0.2250        0.0000  NEGATIVE\n",
       "9         3        0.0000       0.0000        1.0000  POSITIVE\n",
       "10        4        0.0000       0.1769        0.8231  POSITIVE\n",
       "11        5        0.8192       0.1808        0.0000  NEGATIVE\n",
       "12        6        0.0000       0.2717        0.7283  POSITIVE\n",
       "13        7        0.0000       0.3200        0.6800  POSITIVE\n",
       "14        8        0.0846       0.4026        0.5128  POSITIVE\n",
       "15        9        0.0000       0.2535        0.7465  POSITIVE\n",
       "1        10        0.0000       0.0679        0.9321  POSITIVE\n",
       "2        11        1.0000       0.0000        0.0000  NEGATIVE\n",
       "3        12        0.8989       0.1011        0.0000  NEGATIVE\n",
       "4        13        0.0000       0.0000        1.0000  POSITIVE\n",
       "5        14        0.0218       0.2931        0.6851  POSITIVE\n",
       "6        15        0.0909       0.3636        0.5455  POSITIVE\n",
       "7        16        0.0191       0.1642        0.8167  POSITIVE"
      ]
     },
     "execution_count": 75,
     "metadata": {},
     "output_type": "execute_result"
    }
   ],
   "source": [
    "genai_df.sort_values(by='Email ID', inplace=True)\n",
    "genai_df"
   ]
  },
  {
   "cell_type": "code",
   "execution_count": 76,
   "id": "a5754f17-412a-4bcd-b4fb-e80ec66c0c05",
   "metadata": {},
   "outputs": [
    {
     "name": "stdout",
     "output_type": "stream",
     "text": [
      "OPENAI_SENTIMENT_ANALYSIS Table Saved as CSV File\n"
     ]
    }
   ],
   "source": [
    "table_name = 'OPENAI_SENTIMENT_ANALYSIS'\n",
    "genai_df.to_csv(f\"{os.getcwd()}\\\\Files\\\\{table_name}.csv\")\n",
    "print(f'{table_name} Table Saved as CSV File')"
   ]
  }
 ],
 "metadata": {
  "kernelspec": {
   "display_name": "Python 3 (ipykernel)",
   "language": "python",
   "name": "python3"
  },
  "language_info": {
   "codemirror_mode": {
    "name": "ipython",
    "version": 3
   },
   "file_extension": ".py",
   "mimetype": "text/x-python",
   "name": "python",
   "nbconvert_exporter": "python",
   "pygments_lexer": "ipython3",
   "version": "3.10.9"
  },
  "toc-autonumbering": true
 },
 "nbformat": 4,
 "nbformat_minor": 5
}
